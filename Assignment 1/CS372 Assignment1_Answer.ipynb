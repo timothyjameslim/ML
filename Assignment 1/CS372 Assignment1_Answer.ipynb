{
 "cells": [
  {
   "cell_type": "markdown",
   "id": "8a98d2c6-96fe-4a10-b2e8-014cce3614d4",
   "metadata": {},
   "source": [
    "# **CS372 Assignment 1: KNN & NB**\n",
    "\n",
    "### **Group # : Name**"
   ]
  },
  {
   "cell_type": "markdown",
   "id": "7e856b5b-1443-4c7a-8b92-761a9deb41a6",
   "metadata": {},
   "source": [
    "# **Summary**\n",
    "Fill out the summary of this assignment here after you complete the assignment"
   ]
  },
  {
   "cell_type": "markdown",
   "id": "626e8ba8-3883-4e96-b54f-9581612e3c1a",
   "metadata": {},
   "source": [
    "## **Question 1**\n",
    "\n",
    "- Download the Iris Flower data from course Moodle and use it for Question 1.\n",
    "- **[2 points]** In this Question split your data 80/20. Train the model on the 80% fraction and then evaluate the accuracy on the 20% fraction. (use ['train_test_split'](https://scikit-learn.org/stable/modules/generated/sklearn.model_selection.train_test_split.html#sklearn.model_selection.train_test_split 'train_test_split')).\n",
    "    - Make sure that we preserve the proportion of each class in the splits."
   ]
  },
  {
   "cell_type": "markdown",
   "id": "53cb756c-314b-4266-8cf2-9215d4bd6b64",
   "metadata": {},
   "source": [
    "#### Import Libraries"
   ]
  },
  {
   "cell_type": "code",
   "outputs": [],
   "source": [
    "# import libraries in this cell\n",
    "import pandas as pd\n",
    "from sklearn.model_selection import train_test_split\n",
    "from sklearn.neighbors import KNeighborsClassifier\n",
    "import matplotlib.pyplot as plt\n",
    "import seaborn as sns"
   ],
   "metadata": {
    "ExecuteTime": {
     "end_time": "2024-06-03T19:35:32.934154Z",
     "start_time": "2024-06-03T19:35:32.932274Z"
    }
   },
   "id": "f354878e-0763-423a-8f49-0ea10402e6c9",
   "execution_count": 24
  },
  {
   "cell_type": "markdown",
   "source": [
    "#### Read Iris Flower Dataset"
   ],
   "metadata": {},
   "id": "6565342c-fe06-4093-84d2-cb8c34588296"
  },
  {
   "cell_type": "code",
   "outputs": [],
   "source": [
    "# read iris Flower data\n",
    "ds = pd.read_csv(\"Iris_Assignment 1.csv\", header=0, index_col=0)"
   ],
   "metadata": {
    "ExecuteTime": {
     "end_time": "2024-06-03T19:35:33.147570Z",
     "start_time": "2024-06-03T19:35:33.143469Z"
    }
   },
   "id": "fa3a51e9-258f-40bb-82fc-435b695b2f1a",
   "execution_count": 25
  },
  {
   "cell_type": "markdown",
   "id": "a744b05e-6c42-4f9f-bb1c-a81dc83fb6f3",
   "metadata": {},
   "source": [
    "### **[16 points]** Exploratory Data Analysis\n",
    "1. **[5 points]** Check for missing data and data duplication. Upon detection,\n",
    "    - **[2.5 points]** show records with missing tuples and explain clearly how you dealt with them. Justify your choice.\n",
    "    - **[2.5 points]** Show duplicated records and explain clearly how you dealt with them. Justify your choice.\n",
    "2. **[5 points]** Draw Box Plot to spot outliers.\n",
    "    - **[2 points]** Explain how [Box Plot](https://pandas.pydata.org/pandas-docs/stable/reference/api/pandas.DataFrame.boxplot.html) consider outliers in the dataset.\n",
    "    - **[3 points]** Analyze and comment on the plot.\n",
    "3. **[2 points]** Plot [Scatter Matrix](https://seaborn.pydata.org/examples/scatterplot_matrix.html) for all features. Analyze and comment on the plot.\n",
    "4. **[4 points]** Plot [Heatmap](https://seaborn.pydata.org/generated/seaborn.heatmap.html) correlation for all features.\n",
    "    - **[2 points]** Clearly indicate positively and negatively correlated features.\n",
    "    - **[2 points]** Analyze and comment on the plot."
   ]
  },
  {
   "cell_type": "markdown",
   "id": "d0730a2c-c4f6-4535-99a0-8c7b9878412e",
   "metadata": {},
   "source": [
    "#### **1.** Check Missing Data"
   ]
  },
  {
   "cell_type": "code",
   "execution_count": 26,
   "id": "47c1dcdc-888a-434e-9fd9-b91d18ebfdbc",
   "metadata": {
    "ExecuteTime": {
     "end_time": "2024-06-03T19:35:33.155812Z",
     "start_time": "2024-06-03T19:35:33.150885Z"
    }
   },
   "outputs": [
    {
     "name": "stdout",
     "output_type": "stream",
     "text": [
      "ID: '2' Column: 'PetalLengthCm' is blank\n",
      "ID: '20' Column: 'SepalLengthCm' is blank\n"
     ]
    }
   ],
   "source": [
    "# find missing data values\n",
    "for i in range(len(ds)):\n",
    "    for j in ds.columns:\n",
    "        if pd.isnull(ds.loc[ds.index[i],j]):\n",
    "            print(f\"ID: '{ds.index[i]}' Column: '{j}' is blank\")\n",
    "            # This will print all the IDs with missing data"
   ]
  },
  {
   "cell_type": "markdown",
   "id": "3eccf80e-9423-406e-ba41-4d083ff269b8",
   "metadata": {},
   "source": [
    "#### Handle Missing Data"
   ]
  },
  {
   "cell_type": "code",
   "execution_count": 27,
   "id": "63380460-6a58-4a7b-a31d-abcb5beff5bd",
   "metadata": {
    "ExecuteTime": {
     "end_time": "2024-06-03T19:35:33.158764Z",
     "start_time": "2024-06-03T19:35:33.156780Z"
    }
   },
   "outputs": [
    {
     "name": "stdout",
     "output_type": "stream",
     "text": [
      "\n",
      "--------- The above data with missing fields has been removed ---------\n"
     ]
    }
   ],
   "source": [
    "# remove the missing data\n",
    "ds.dropna(inplace=True)\n",
    "print(\"\\n--------- The above data with missing fields has been removed ---------\\n\")\n",
    "# I removed the data because the columns is data sensitive\n",
    "# if I filled it with other numbers it may affect the final result"
   ]
  },
  {
   "cell_type": "markdown",
   "id": "0622a00d-b962-4d8f-90bb-979d3e5e53b9",
   "metadata": {},
   "source": [
    "#### **Explain how you dealt with missing data**\n",
    "\n",
    "Exmplain how you dealt them, why, and justify your choice here."
   ]
  },
  {
   "cell_type": "markdown",
   "id": "f40b6843-f090-4bf2-887a-f09a9d5c0b50",
   "metadata": {},
   "source": [
    "#### Check Duplicate Data"
   ]
  },
  {
   "cell_type": "code",
   "execution_count": 28,
   "id": "5793454b-a1df-4f53-afb9-614221172933",
   "metadata": {
    "ExecuteTime": {
     "end_time": "2024-06-03T19:35:33.170207Z",
     "start_time": "2024-06-03T19:35:33.166959Z"
    }
   },
   "outputs": [
    {
     "name": "stdout",
     "output_type": "stream",
     "text": [
      "     SepalLengthCm  SepalWidthCm  PetalLengthCm  PetalWidthCm         Species\n",
      "Id                                                                           \n",
      "10             4.9           3.1            1.5           0.1     Iris-setosa\n",
      "35             4.9           3.1            1.5           0.1     Iris-setosa\n",
      "38             4.9           3.1            1.5           0.1     Iris-setosa\n",
      "102            5.8           2.7            5.1           1.9  Iris-virginica\n",
      "143            5.8           2.7            5.1           1.9  Iris-virginica \n",
      "--------- The above duplicated data has been removed ---------\n"
     ]
    }
   ],
   "source": [
    "# find duplicate records\n",
    "duplicates = ds[ds.duplicated(keep=False)]\n",
    "print(duplicates, \"\\n--------- The above duplicated data has been removed ---------\\n\")\n",
    "# I removed the data as duplicate data may cause over-fitting"
   ]
  },
  {
   "cell_type": "markdown",
   "id": "28b10b9d-b9ed-45d9-8efb-2f057de99d05",
   "metadata": {},
   "source": [
    "#### Handle Duplicate Data"
   ]
  },
  {
   "cell_type": "code",
   "execution_count": 29,
   "id": "96201615-936f-4f51-959a-c2d7fa8672a2",
   "metadata": {
    "ExecuteTime": {
     "end_time": "2024-06-03T19:35:33.214251Z",
     "start_time": "2024-06-03T19:35:33.211984Z"
    }
   },
   "outputs": [],
   "source": [
    "# remove the duplicated data\n",
    "ds.drop_duplicates(inplace=True)"
   ]
  },
  {
   "cell_type": "markdown",
   "id": "ba4210b7-12c6-4f5e-ba72-c9916cfec886",
   "metadata": {},
   "source": [
    "#### **Explain how you dealt with duplicates**\n",
    "\n",
    "Exmplain how you dealt them, why, and justify your choice here."
   ]
  },
  {
   "cell_type": "markdown",
   "id": "450d6b75-378d-48d9-a395-6f832fedaec8",
   "metadata": {},
   "source": [
    "#### **2.** Draw Box Plot"
   ]
  },
  {
   "cell_type": "code",
   "execution_count": 29,
   "id": "9430614a-6660-4713-a6a7-3e2757cdada1",
   "metadata": {
    "ExecuteTime": {
     "end_time": "2024-06-03T19:35:33.230750Z",
     "start_time": "2024-06-03T19:35:33.229499Z"
    }
   },
   "outputs": [],
   "source": []
  },
  {
   "cell_type": "markdown",
   "id": "4b9646ac-e6ae-4164-b6a6-3660339fa230",
   "metadata": {
    "jp-MarkdownHeadingCollapsed": true
   },
   "source": [
    "#### **Explain how Box Plot consider outliers in the dataset**\n",
    "\n",
    "Add comments here"
   ]
  },
  {
   "cell_type": "markdown",
   "id": "d773bb3a-c159-4c6c-8cb0-46d340b84182",
   "metadata": {
    "jp-MarkdownHeadingCollapsed": true
   },
   "source": [
    "#### **Analyze and comment on the box plot**\n",
    "\n",
    "Add comments here"
   ]
  },
  {
   "cell_type": "markdown",
   "id": "ad0cc486-d06a-4d05-943b-46ab44908cf7",
   "metadata": {},
   "source": [
    "#### **3.** Plot Scatter Matrix"
   ]
  },
  {
   "cell_type": "code",
   "execution_count": 29,
   "id": "65d0948d-447b-4430-92c1-de8589d4d40d",
   "metadata": {
    "ExecuteTime": {
     "end_time": "2024-06-03T19:35:33.242585Z",
     "start_time": "2024-06-03T19:35:33.241290Z"
    }
   },
   "outputs": [],
   "source": []
  },
  {
   "cell_type": "markdown",
   "id": "bf6c2dfc-e837-4864-a835-0284b3a29700",
   "metadata": {
    "jp-MarkdownHeadingCollapsed": true
   },
   "source": [
    "#### **Analyze and comment on the scatter matrix plot**\n",
    "\n",
    "Add comments here"
   ]
  },
  {
   "cell_type": "markdown",
   "id": "315edf49-4293-4cd7-8c2c-3c4c1169dcb6",
   "metadata": {},
   "source": [
    "#### **4.** Plot Heatmap Correlation"
   ]
  },
  {
   "cell_type": "code",
   "execution_count": 29,
   "id": "84473bb2-8ee5-4db1-b2cc-ba93abfe546d",
   "metadata": {
    "ExecuteTime": {
     "end_time": "2024-06-03T19:35:33.269015Z",
     "start_time": "2024-06-03T19:35:33.267577Z"
    }
   },
   "outputs": [],
   "source": []
  },
  {
   "cell_type": "markdown",
   "id": "9e409b74-681e-4b53-88b3-8a4acea92bd6",
   "metadata": {},
   "source": [
    "#### **Analyze and comment on the heatmap correlation plot**\n",
    "\n",
    "Add comments here"
   ]
  },
  {
   "cell_type": "markdown",
   "id": "0c79853f-ddf3-45b5-838e-2df3c6b81f4a",
   "metadata": {},
   "source": [
    "### KNN **[15 points]**\n",
    "\n",
    "1. **[6 points]** Implement KNN using sklearn library (use [KNeighborsClassifier](https://scikit-learn.org/stable/modules/generated/sklearn.neighbors.KNeighborsClassifier.html)).\n",
    "    - **[4 points]** Experiment with different distance metrics, namely, Euclidean metric and Manhattan distance. Comment on your findings.\n",
    "    - **[2 points]** Use [StandardScaler](https://scikit-learn.org/stable/modules/generated/sklearn.preprocessing.StandardScaler.html) to put all attributes on the same scale.\n",
    "2. **[5 points]** Choose the best number of neighbors using [5-fold cross validation](https://scikit-learn.org/stable/modules/cross_validation.html) (from built-in) approach we studied in the class.\n",
    "3. **[2 points]** K value vs. [Accuracy](https://scikit-learn.org/stable/modules/generated/sklearn.metrics.accuracy_score.html): draw a 2D plot to show the average accuracy of KNN classifier vs different number of k’s. Analyze your result and comment on your plot.\n",
    "    - Evaluate your model on the test data using Accuracy based on best K found in (2) & (3). Comment on the result and print misclassified flowers in table format where you show the true label in one column and the predicted table in another column."
   ]
  },
  {
   "cell_type": "markdown",
   "id": "30c8a462-4c70-47b7-8309-817ff726db86",
   "metadata": {},
   "source": [
    "#### **1.** StandardScaler: put all attributes on the same scale"
   ]
  },
  {
   "cell_type": "code",
   "execution_count": 29,
   "id": "0a7f1b01-c11b-40ea-babc-663b0c190d7f",
   "metadata": {
    "ExecuteTime": {
     "end_time": "2024-06-03T19:35:33.278696Z",
     "start_time": "2024-06-03T19:35:33.277337Z"
    }
   },
   "outputs": [],
   "source": []
  },
  {
   "cell_type": "markdown",
   "id": "f6a425f4-1637-4136-8a5f-47580e443a00",
   "metadata": {},
   "source": [
    "#### Split your data 80/20"
   ]
  },
  {
   "cell_type": "code",
   "execution_count": 30,
   "id": "2057c6d0-209b-4480-a23b-44901d4d6d99",
   "metadata": {
    "ExecuteTime": {
     "end_time": "2024-06-03T19:35:33.291994Z",
     "start_time": "2024-06-03T19:35:33.290455Z"
    }
   },
   "outputs": [],
   "source": [
    "# shuffle and split"
   ]
  },
  {
   "cell_type": "markdown",
   "id": "11cb100e-9c2b-4e80-8dde-6084f5d3c5d3",
   "metadata": {},
   "source": [
    "#### Implement KNN using Euclidean metric and Manhattan distance"
   ]
  },
  {
   "cell_type": "code",
   "execution_count": 30,
   "id": "ecfaa407-15d6-43bc-9177-a0046a833dcc",
   "metadata": {
    "ExecuteTime": {
     "end_time": "2024-06-03T19:35:33.296468Z",
     "start_time": "2024-06-03T19:35:33.295390Z"
    }
   },
   "outputs": [],
   "source": []
  },
  {
   "cell_type": "markdown",
   "source": [],
   "metadata": {
    "collapsed": false
   },
   "id": "43fbed52301218cf"
  },
  {
   "cell_type": "markdown",
   "id": "7201a59e-8e78-4ce3-9def-9281efe06740",
   "metadata": {},
   "source": [
    "#### **Analyze and comment on your finding**\n",
    "\n",
    "Analyze KNN with different metrics regarding accuracy, time, etc."
   ]
  },
  {
   "cell_type": "markdown",
   "id": "a19fd4f2-2571-4c95-b793-8e3407f8130c",
   "metadata": {},
   "source": [
    "#### **2.** Choose the Best Number of Neighbors (5-Fold Cross Validation)"
   ]
  },
  {
   "cell_type": "code",
   "execution_count": 30,
   "id": "0ec8de83-85e0-4a0f-8174-8f606a6669f3",
   "metadata": {
    "ExecuteTime": {
     "end_time": "2024-06-03T19:35:33.324568Z",
     "start_time": "2024-06-03T19:35:33.323297Z"
    }
   },
   "outputs": [],
   "source": []
  },
  {
   "cell_type": "markdown",
   "id": "73442e58-c371-4909-bdf5-c39cf8ffb729",
   "metadata": {},
   "source": [
    "#### **3.** Draw Plot : K value vs Accuracy"
   ]
  },
  {
   "cell_type": "code",
   "execution_count": 30,
   "id": "51f19afd-2b2d-4eb0-ab9a-7677a3f22c4e",
   "metadata": {
    "ExecuteTime": {
     "end_time": "2024-06-03T19:35:33.335890Z",
     "start_time": "2024-06-03T19:35:33.334493Z"
    }
   },
   "outputs": [],
   "source": []
  },
  {
   "cell_type": "markdown",
   "id": "e5d57703-d50d-40e6-887d-9f8a8f54c2e6",
   "metadata": {},
   "source": [
    "#### Evaluate your model on the test data using Accuracy based on K found in (2) & (3)"
   ]
  },
  {
   "cell_type": "code",
   "execution_count": 30,
   "id": "3fc03ece-6827-45ae-9f95-ab5a68c7b3fb",
   "metadata": {
    "ExecuteTime": {
     "end_time": "2024-06-03T19:35:33.340982Z",
     "start_time": "2024-06-03T19:35:33.339919Z"
    }
   },
   "outputs": [],
   "source": []
  },
  {
   "cell_type": "markdown",
   "id": "93e011cd-b237-4549-bf02-02c88af80bb2",
   "metadata": {},
   "source": [
    "#### Print misclassified flowers"
   ]
  },
  {
   "cell_type": "code",
   "execution_count": 30,
   "id": "fd2c969d-2573-494f-99ae-d87c7cd45992",
   "metadata": {
    "ExecuteTime": {
     "end_time": "2024-06-03T19:35:33.345022Z",
     "start_time": "2024-06-03T19:35:33.343878Z"
    }
   },
   "outputs": [],
   "source": []
  },
  {
   "cell_type": "markdown",
   "id": "07dc8a6a-0888-4960-97f5-d836ebee769b",
   "metadata": {},
   "source": [
    "#### **Analyze and comment on the result**\n",
    "\n",
    "Evaluate your model on the test data using Accuracy based on best K found in (2) & (3). Comment on the result and print misclassified flowers in table format where you show the true label in one column and the predicted table in another column."
   ]
  },
  {
   "cell_type": "markdown",
   "id": "838a5c8d-d598-4835-9e59-e12b545b8da2",
   "metadata": {},
   "source": [
    "### Naive Bayes **[9 points]**\n",
    "1. **[5 points]** You need to implement Naïve Bayes using the [built-in library](https://scikit-learn.org/stable/modules/generated/sklearn.naive_bayes.GaussianNB.html) and use it to predict the Species of iris in the test dataset.\n",
    "2. **[4 points]** Use [Accuracy](https://scikit-learn.org/stable/modules/generated/sklearn.metrics.accuracy_score.html) to assess the performance of your classifier.\n",
    "    - **[2 points]** Print misclassified flowers in table format where you show the true label in one column and the predicted table in another column."
   ]
  },
  {
   "cell_type": "markdown",
   "id": "a453af51-05b4-40d5-8bb1-5e048aa32e45",
   "metadata": {},
   "source": [
    "#### **1.** Implement Naive Bayes"
   ]
  },
  {
   "cell_type": "code",
   "execution_count": 30,
   "id": "5880127c-8549-44df-b6c0-7d653c212957",
   "metadata": {
    "ExecuteTime": {
     "end_time": "2024-06-03T19:35:33.382770Z",
     "start_time": "2024-06-03T19:35:33.381506Z"
    }
   },
   "outputs": [],
   "source": []
  },
  {
   "cell_type": "markdown",
   "id": "a7d717d7-eac5-40fe-9603-68b5d0db7020",
   "metadata": {},
   "source": [
    "#### **2.** Assess the Performance (Accuracy)"
   ]
  },
  {
   "cell_type": "code",
   "execution_count": 30,
   "id": "4451c64d-9c4b-4a1e-a4e6-873d309635e6",
   "metadata": {
    "ExecuteTime": {
     "end_time": "2024-06-03T19:35:33.388315Z",
     "start_time": "2024-06-03T19:35:33.387130Z"
    }
   },
   "outputs": [],
   "source": []
  },
  {
   "cell_type": "markdown",
   "id": "086bdcd6-aaee-4f90-b0f8-b2e05ea5dca2",
   "metadata": {},
   "source": [
    "#### Print misclassified flowers"
   ]
  },
  {
   "cell_type": "code",
   "execution_count": 30,
   "id": "80cffa87-dbe2-405c-b601-bef1bdbc499c",
   "metadata": {
    "ExecuteTime": {
     "end_time": "2024-06-03T19:35:33.394511Z",
     "start_time": "2024-06-03T19:35:33.393463Z"
    }
   },
   "outputs": [],
   "source": []
  },
  {
   "cell_type": "markdown",
   "id": "e33e3a52-cb4f-4776-8535-16c61fa2439b",
   "metadata": {},
   "source": [
    "## **Question 2**\n",
    "\n",
    "**Problem description**: Predict the onset of diabetes based on diagnostic measures.\n",
    "This dataset is originally from the National Institute of Diabetes and Digestive and Kidney Diseases. The objective of the dataset is to diagnostically predict whether or not a patient has diabetes, based on certain diagnostic measurements included in the dataset. Several constraints were placed on the selection of these instances from a larger database. In particular, all patients here are females at least 21 years old of Pima Indian heritage.\n",
    "Some information about the data :\n",
    "- Number of pregnancies.\n",
    "- Body Mass Index (BMI)\n",
    "- Insulin level.\n",
    "- Age.\n",
    "- Glucose.\n",
    "- Blood Pressure.\n",
    "- Diabetes Pedigree Function.\n",
    "- Outcome (Target Feature).\n",
    "  \n",
    "1. Download the Pima Indians Diabetes Database data from course Moodle.\n",
    "2. Split your data 80/20. Train the model on the 80% fraction and then evaluate the accuracy on the 20% fraction."
   ]
  },
  {
   "cell_type": "markdown",
   "id": "1ab7cacc-eabb-4811-a9f1-65bfd9e5f131",
   "metadata": {},
   "source": [
    "### **[16 points]** Exploratory Data Analysis\n",
    "3. **[3 points]** Check for missing data and data duplication. Upon detection, show and explain clearly how you dealt with them. Justify your choice.\n",
    "4. **[2 points]** Draw Box Plot to spot outliers. Analyze and comment on the plot.\n",
    "5. **[2 points]** Plot scatter matrix for all features. Analyze and comment on the plot.\n",
    "6. **[3 points]** Plot Heatmap correlation for all features. Analyze and comment on the plot."
   ]
  },
  {
   "cell_type": "markdown",
   "id": "8dcc6dbf-1760-40ae-8e0f-51a18d6be757",
   "metadata": {},
   "source": [
    "#### **3.** Check Missing Data"
   ]
  },
  {
   "cell_type": "code",
   "execution_count": 31,
   "id": "faca0742-226b-4fdf-b078-20885cecd5eb",
   "metadata": {
    "ExecuteTime": {
     "end_time": "2024-06-03T19:35:33.419352Z",
     "start_time": "2024-06-03T19:35:33.418002Z"
    }
   },
   "outputs": [],
   "source": [
    "# check missing data and show the records"
   ]
  },
  {
   "cell_type": "markdown",
   "id": "6384d552-8302-4fbb-a8ff-ca22344e6590",
   "metadata": {},
   "source": [
    "#### Handle Missing Data"
   ]
  },
  {
   "cell_type": "code",
   "execution_count": 32,
   "id": "34626789-5ae2-4ad0-baae-a0f1fd71e5dd",
   "metadata": {
    "ExecuteTime": {
     "end_time": "2024-06-03T19:35:33.428549Z",
     "start_time": "2024-06-03T19:35:33.427266Z"
    }
   },
   "outputs": [],
   "source": [
    "# handle the missing data"
   ]
  },
  {
   "cell_type": "markdown",
   "id": "72582fd9-68b8-421a-9db1-0db171e8485b",
   "metadata": {},
   "source": [
    "#### Check Duplicate Data"
   ]
  },
  {
   "cell_type": "code",
   "execution_count": 32,
   "id": "417d4255-92f7-4381-8fd0-a848362443a1",
   "metadata": {
    "ExecuteTime": {
     "end_time": "2024-06-03T19:35:33.432529Z",
     "start_time": "2024-06-03T19:35:33.431414Z"
    }
   },
   "outputs": [],
   "source": []
  },
  {
   "cell_type": "markdown",
   "id": "91f518ad-07e6-4d6a-99bf-b2049c5e4248",
   "metadata": {},
   "source": [
    "#### Handle Duplicate Data"
   ]
  },
  {
   "cell_type": "code",
   "execution_count": 32,
   "id": "460b7465-7983-421e-899c-57b870e2c9f3",
   "metadata": {
    "ExecuteTime": {
     "end_time": "2024-06-03T19:35:33.440780Z",
     "start_time": "2024-06-03T19:35:33.439620Z"
    }
   },
   "outputs": [],
   "source": []
  },
  {
   "cell_type": "markdown",
   "id": "0bfe0244-7c5b-4a4c-8ef7-5aaa93bf2885",
   "metadata": {},
   "source": [
    "#### **Explain how you dealt with missing data and duplicates**\n",
    "\n",
    "Exmplain how you dealt them, why, and justify your choice here."
   ]
  },
  {
   "cell_type": "markdown",
   "id": "4ba77833-7ba7-467c-9ee2-ff775553dcb1",
   "metadata": {},
   "source": [
    "#### **4.** Draw Box Plot"
   ]
  },
  {
   "cell_type": "code",
   "execution_count": 32,
   "id": "bee593ed-3f1e-4caa-a969-1584491ddd6e",
   "metadata": {
    "ExecuteTime": {
     "end_time": "2024-06-03T19:35:33.445304Z",
     "start_time": "2024-06-03T19:35:33.444140Z"
    }
   },
   "outputs": [],
   "source": []
  },
  {
   "cell_type": "markdown",
   "id": "31db00cc-0ade-4d16-b500-808d037400ff",
   "metadata": {
    "jp-MarkdownHeadingCollapsed": true
   },
   "source": [
    "#### **Analyze and comment on the box plot**\n",
    "\n",
    "Add comments here"
   ]
  },
  {
   "cell_type": "markdown",
   "id": "b6043186-f727-4182-b844-4f14538af627",
   "metadata": {},
   "source": [
    "#### **5.** Plot Scatter Matrix"
   ]
  },
  {
   "cell_type": "code",
   "execution_count": 32,
   "id": "48883ce8-7b3c-4a20-b18f-a683290bc1a9",
   "metadata": {
    "ExecuteTime": {
     "end_time": "2024-06-03T19:35:33.478710Z",
     "start_time": "2024-06-03T19:35:33.477363Z"
    }
   },
   "outputs": [],
   "source": []
  },
  {
   "cell_type": "markdown",
   "id": "d0a295d7-f3d3-44e4-b2fa-58cbf3e95691",
   "metadata": {
    "jp-MarkdownHeadingCollapsed": true
   },
   "source": [
    "#### **Analyze and comment on the scatter matrix plot**\n",
    "\n",
    "Add comments here"
   ]
  },
  {
   "cell_type": "markdown",
   "id": "885c0a53-1bd1-4365-88ad-827883aa8b76",
   "metadata": {},
   "source": [
    "#### **6.** Plot Heatmap Correlation"
   ]
  },
  {
   "cell_type": "code",
   "execution_count": 32,
   "id": "13298e1b-9ec0-48d3-8404-cb71cdd8a3cc",
   "metadata": {
    "ExecuteTime": {
     "end_time": "2024-06-03T19:35:33.486558Z",
     "start_time": "2024-06-03T19:35:33.485381Z"
    }
   },
   "outputs": [],
   "source": []
  },
  {
   "cell_type": "markdown",
   "id": "0f0cc558-ec31-41a9-b4df-3000633a0846",
   "metadata": {
    "jp-MarkdownHeadingCollapsed": true
   },
   "source": [
    "#### **Analyze and comment on the heatmap correlation plot**\n",
    "\n",
    "Add comments here"
   ]
  },
  {
   "cell_type": "markdown",
   "id": "452836cc-1925-4864-85fe-34486c2463c1",
   "metadata": {},
   "source": [
    "#### Split your data 80/20"
   ]
  },
  {
   "cell_type": "code",
   "execution_count": 33,
   "id": "24d23865-4db7-4832-93a8-e6e9e18a8a55",
   "metadata": {
    "ExecuteTime": {
     "end_time": "2024-06-03T19:35:33.491053Z",
     "start_time": "2024-06-03T19:35:33.489682Z"
    }
   },
   "outputs": [],
   "source": [
    "# shuffle and split"
   ]
  },
  {
   "cell_type": "markdown",
   "id": "e29b2f1f-17f2-400a-8608-3ea8003cecf7",
   "metadata": {},
   "source": [
    "### **Question 2 Part 1**\n",
    "### **[20 points]** Implement Gaussian Naïve Bayes from scratch.\n",
    "- **[10 points]** Make sure to use functions in writing your codes.\n",
    "- **[5 points]** Underflow prevention.\n",
    "- **[5 points]** Zero variance."
   ]
  },
  {
   "cell_type": "markdown",
   "id": "bbadcf50-adc4-41c8-be24-6be397f2a7c9",
   "metadata": {},
   "source": [
    "#### Implement Function for Gaussian Naive Bayes"
   ]
  },
  {
   "cell_type": "code",
   "execution_count": 33,
   "id": "efea478e-9240-4136-9c94-de7e6e54eb74",
   "metadata": {
    "ExecuteTime": {
     "end_time": "2024-06-03T19:35:33.495255Z",
     "start_time": "2024-06-03T19:35:33.494286Z"
    }
   },
   "outputs": [],
   "source": []
  },
  {
   "cell_type": "markdown",
   "id": "8751d807-95d3-4baf-abb6-485ef842aef0",
   "metadata": {},
   "source": [
    "#### Evaluate your own Gaussian Naive Bayes"
   ]
  },
  {
   "cell_type": "code",
   "execution_count": 33,
   "id": "45e118cf-c49b-4ae7-b1ec-26bc4ab748d3",
   "metadata": {
    "ExecuteTime": {
     "end_time": "2024-06-03T19:35:33.503811Z",
     "start_time": "2024-06-03T19:35:33.502546Z"
    }
   },
   "outputs": [],
   "source": []
  },
  {
   "cell_type": "markdown",
   "id": "276696d2-32a3-4b94-a676-f038793476f6",
   "metadata": {},
   "source": [
    "#### Accuracy"
   ]
  },
  {
   "cell_type": "code",
   "execution_count": 33,
   "id": "8107bf4f-a890-4bad-876f-ed58ef472d5f",
   "metadata": {
    "ExecuteTime": {
     "end_time": "2024-06-03T19:35:33.537222Z",
     "start_time": "2024-06-03T19:35:33.535908Z"
    }
   },
   "outputs": [],
   "source": []
  },
  {
   "cell_type": "markdown",
   "id": "f287191b-d9ef-44c2-b96a-1333b770d162",
   "metadata": {},
   "source": [
    "### **[20 points] Question 2 Part 2**\n",
    "8. **[12 points]** You need to implement KNN from scratch:\n",
    "- **[5 points]** Implement Euclidean Distance from scratch (please, don’t use built-in library).\n",
    "- **[2 points]** Use [Min-Max](https://scikit-learn.org/stable/modules/generated/sklearn.preprocessing.MinMaxScaler.html) to normalize the dataset.\n",
    "9. **[9 points]** Tune the number of nearest neighbors k\n",
    "- What is the optimal value of k? To figure it out:\n",
    "    - **[5 points]** Implement N-fold-cross validation from scratch:\n",
    "        - Train KNN classifier using 5-fold-cross validation using various values of k.\n",
    "            - Explain/ justify the choice of the range of K values.\n",
    "            - Choose k that obtained the highest accuracy.\n",
    "    - Next, evaluate the classifier using the optimal value of K that we found using 5-fold cross validation on the test set (20% that we did not use in the 5-fold cross validation) and obtain the final results.\n",
    "- **[2 points]** In case of tie, KNN algorithm prefers the neighbor with closer distance to the query.\n",
    "- **[2 points]** K value vs. Accuracy: draw a 2D plot to show the accuracy of KNN classifier vs different number of k’s."
   ]
  },
  {
   "cell_type": "markdown",
   "id": "b99947bb-fa78-451a-98d3-fd8d730a537d",
   "metadata": {},
   "source": [
    "#### **8.** Function for KNN (from scratch) \n",
    "- Metric: Euclidean Distance\n",
    "- Normalize: [Min-Max](https://scikit-learn.org/stable/modules/generated/sklearn.preprocessing.MinMaxScaler.html)\n",
    "- In case of tie, KNN algorithm prefers the neighbor with closer distance to the query"
   ]
  },
  {
   "cell_type": "code",
   "execution_count": 33,
   "id": "d1b1781b-db90-4216-9eb5-96d4bfe7639b",
   "metadata": {
    "ExecuteTime": {
     "end_time": "2024-06-03T19:35:33.551396Z",
     "start_time": "2024-06-03T19:35:33.550127Z"
    }
   },
   "outputs": [],
   "source": []
  },
  {
   "cell_type": "markdown",
   "id": "6c5b6988-eb80-411c-96c9-dfb66afbe00c",
   "metadata": {},
   "source": [
    "#### **9.** Tune the Number of Nearest Neighbors K"
   ]
  },
  {
   "cell_type": "markdown",
   "id": "ca663277-3c1a-436d-9d61-9a2df79a0f95",
   "metadata": {},
   "source": [
    "#### Implement function for N-Fold-Cross Validation (from scratch)"
   ]
  },
  {
   "cell_type": "code",
   "execution_count": 33,
   "id": "d60823f4-8e6b-452b-86e1-74a0a22e6971",
   "metadata": {
    "ExecuteTime": {
     "end_time": "2024-06-03T19:35:33.554358Z",
     "start_time": "2024-06-03T19:35:33.553014Z"
    }
   },
   "outputs": [],
   "source": []
  },
  {
   "cell_type": "markdown",
   "id": "30013c8d-14fb-4964-b56a-5357a108c2ce",
   "metadata": {},
   "source": [
    "#### Train KNN Classifier using 5-Fold-Cross Validation with Various Values of K"
   ]
  },
  {
   "cell_type": "code",
   "execution_count": 33,
   "id": "f6130843-f813-4f90-adfb-7d0c03c52f15",
   "metadata": {
    "ExecuteTime": {
     "end_time": "2024-06-03T19:35:33.596819Z",
     "start_time": "2024-06-03T19:35:33.595472Z"
    }
   },
   "outputs": [],
   "source": []
  },
  {
   "cell_type": "markdown",
   "id": "5ff6acc6-24c7-4369-ba1b-ffb311d22dac",
   "metadata": {},
   "source": [
    "#### Accuracy of KNN Classifier with Various K"
   ]
  },
  {
   "cell_type": "code",
   "execution_count": 34,
   "id": "d8ca907b-1abb-4501-9367-83cbea8c3731",
   "metadata": {
    "ExecuteTime": {
     "end_time": "2024-06-03T19:35:33.606311Z",
     "start_time": "2024-06-03T19:35:33.604917Z"
    }
   },
   "outputs": [],
   "source": [
    "#Calculate accuracy"
   ]
  },
  {
   "cell_type": "markdown",
   "id": "0cfd9baa-22fd-4b30-ba96-6802ac897d98",
   "metadata": {
    "jp-MarkdownHeadingCollapsed": true
   },
   "source": [
    "#### **Analyze and comment on choice of the range of K values**\n",
    "\n",
    "Explain/justify the choice of the range of K values. Choose K that obtained the highest accuracy"
   ]
  },
  {
   "cell_type": "markdown",
   "id": "09d9cdf9-f89d-4578-ab88-984d122fb4ab",
   "metadata": {},
   "source": [
    "#### Evaluate KNN Classifier with the Best K"
   ]
  },
  {
   "cell_type": "code",
   "execution_count": 35,
   "id": "30aa768f-adac-49bd-bab9-f5aa82c53a90",
   "metadata": {
    "ExecuteTime": {
     "end_time": "2024-06-03T19:35:33.610470Z",
     "start_time": "2024-06-03T19:35:33.609193Z"
    }
   },
   "outputs": [],
   "source": [
    "#final result"
   ]
  },
  {
   "cell_type": "markdown",
   "id": "a0f84e62-2fa0-4cea-80bc-4ab3ac3919b4",
   "metadata": {},
   "source": [
    "#### Print missclassified data"
   ]
  },
  {
   "cell_type": "code",
   "execution_count": 35,
   "id": "6a80a0a8-c509-4246-b94c-dd772d38803f",
   "metadata": {
    "ExecuteTime": {
     "end_time": "2024-06-03T19:35:33.615743Z",
     "start_time": "2024-06-03T19:35:33.614707Z"
    }
   },
   "outputs": [],
   "source": []
  },
  {
   "cell_type": "markdown",
   "id": "38b2438a-7fd1-424c-ab78-e00f10aefe14",
   "metadata": {},
   "source": [
    "#### **Analyze and comment on the result**\n",
    "\n",
    "Evaluate your model on the test data using Accuracy based on best K found in (9). Comment on the result and print misclassified data in table format where you show the true label in one column and the predicted table in another column."
   ]
  },
  {
   "cell_type": "markdown",
   "id": "0817aafe-74bd-4c1f-8e03-ff33a0800f8e",
   "metadata": {},
   "source": [
    "### **[8 points]** Model Evaluation\n",
    "10. **[8 points]** Compare, comment, and analyze the result of all the classifiers you built thus far Naïve Bayes & KNN using built-in library (you implemented in Question 1) with Naïve Bayes & KNN from scratch implementation in Question 2 for Pima Indians Diabetes Database data.\n",
    "- **[6 points]** To compare the performance of your classifier use:\n",
    "    - **[2 points]** execution time.\n",
    "    - **[2 points]** Accuracy\n",
    "    - **[2 points]** [confusion matrix](https://scikit-learn.org/stable/modules/generated/sklearn.metrics.ConfusionMatrixDisplay.html#sklearn.metrics.ConfusionMatrixDisplay)."
   ]
  },
  {
   "cell_type": "markdown",
   "id": "76b7a754-6fb1-499c-a89f-a3b867d4c6f6",
   "metadata": {},
   "source": [
    "#### Implement Naive Bayes(built-in library) for Pima Indians Diabetes Databaset data"
   ]
  },
  {
   "cell_type": "code",
   "execution_count": 35,
   "id": "aa80d8a7-3440-4337-82ac-1e7b9413bd17",
   "metadata": {
    "ExecuteTime": {
     "end_time": "2024-06-03T19:35:33.623447Z",
     "start_time": "2024-06-03T19:35:33.622409Z"
    }
   },
   "outputs": [],
   "source": []
  },
  {
   "cell_type": "markdown",
   "id": "ce36ab79-d16b-4947-a033-6606f10ead95",
   "metadata": {},
   "source": [
    "#### Compare built-in Naive Bayes and your Naive Bayes regarding execution time, accuracy, and confusion matrix"
   ]
  },
  {
   "cell_type": "code",
   "execution_count": 35,
   "id": "a8689fb8-4994-4ab3-b2a5-f9f0fa640f30",
   "metadata": {
    "ExecuteTime": {
     "end_time": "2024-06-03T19:35:33.676894Z",
     "start_time": "2024-06-03T19:35:33.675628Z"
    }
   },
   "outputs": [],
   "source": []
  },
  {
   "cell_type": "markdown",
   "id": "bd50fa8b-9446-454b-a483-62538e4822e2",
   "metadata": {},
   "source": [
    "#### **Comment on the comparison (built-in Naive Bayes vs from scratch)**\n",
    "\n",
    "Add comment here"
   ]
  },
  {
   "cell_type": "markdown",
   "id": "53551682-cdaf-4334-8730-9014ea79da69",
   "metadata": {},
   "source": [
    "#### Implement KNN(built-in library) for Pima Indians Diabetes Databaset data"
   ]
  },
  {
   "cell_type": "code",
   "execution_count": 35,
   "id": "cc43164d-8d6f-4be7-9323-3aa28833e562",
   "metadata": {
    "ExecuteTime": {
     "end_time": "2024-06-03T19:35:33.681181Z",
     "start_time": "2024-06-03T19:35:33.679954Z"
    }
   },
   "outputs": [],
   "source": []
  },
  {
   "cell_type": "markdown",
   "id": "0bc26d1e-c05b-4b2d-bc49-f46c11a1d3ea",
   "metadata": {},
   "source": [
    "#### Compare built-in KNN and KNN from scratch regarding execution time, accuracy, and confusion matrix"
   ]
  },
  {
   "cell_type": "code",
   "execution_count": 35,
   "id": "f78e1539-b26f-4abc-9b72-6f3831a084a7",
   "metadata": {
    "ExecuteTime": {
     "end_time": "2024-06-03T19:35:33.705651Z",
     "start_time": "2024-06-03T19:35:33.704479Z"
    }
   },
   "outputs": [],
   "source": []
  },
  {
   "cell_type": "markdown",
   "id": "efc0a108-930a-401e-9a53-f41819c9c69d",
   "metadata": {},
   "source": [
    "#### **Comment on the comparison (built-in Naive Bayes vs from scratch)**\n",
    "\n",
    "Add comment here"
   ]
  },
  {
   "cell_type": "markdown",
   "id": "028ebc73-20b3-4474-bfc2-f768dd8f22f9",
   "metadata": {},
   "source": [
    "#### Compare Naive Bayes and KNN (both from scratch) regarding execution time, accuracy, and confusion matrix"
   ]
  },
  {
   "cell_type": "code",
   "execution_count": 35,
   "id": "0773e889-1580-43f5-b7f2-cf5fc39b8113",
   "metadata": {
    "ExecuteTime": {
     "end_time": "2024-06-03T19:35:33.718994Z",
     "start_time": "2024-06-03T19:35:33.717609Z"
    }
   },
   "outputs": [],
   "source": []
  },
  {
   "cell_type": "markdown",
   "id": "27bbdee9-dd8a-4d65-a1fd-f14c0dec16b1",
   "metadata": {},
   "source": [
    "#### **Compare, comment, and analyze the result of ALL classifiers**\n",
    "\n",
    "Add comment here"
   ]
  }
 ],
 "metadata": {
  "kernelspec": {
   "display_name": "Python 3 (ipykernel)",
   "language": "python",
   "name": "python3"
  },
  "language_info": {
   "codemirror_mode": {
    "name": "ipython",
    "version": 3
   },
   "file_extension": ".py",
   "mimetype": "text/x-python",
   "name": "python",
   "nbconvert_exporter": "python",
   "pygments_lexer": "ipython3",
   "version": "3.11.5"
  }
 },
 "nbformat": 4,
 "nbformat_minor": 5
}
