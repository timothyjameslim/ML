{
 "cells": [
  {
   "cell_type": "markdown",
   "source": [
    "Import Libraries"
   ],
   "metadata": {
    "collapsed": false
   },
   "id": "3cdab862a58ce8fb"
  },
  {
   "cell_type": "code",
   "execution_count": 1,
   "id": "initial_id",
   "metadata": {
    "collapsed": true,
    "ExecuteTime": {
     "end_time": "2024-07-19T05:33:39.314144Z",
     "start_time": "2024-07-19T05:33:37.018813Z"
    }
   },
   "outputs": [],
   "source": [
    "import pandas as pd\n",
    "import tensorflow as tf\n",
    "from datetime import datetime\n",
    "from sklearn.preprocessing import LabelEncoder\n",
    "from sklearn.feature_extraction.text import TfidfVectorizer\n",
    "import keras"
   ]
  },
  {
   "cell_type": "markdown",
   "source": [
    "Load all the datasets"
   ],
   "metadata": {
    "collapsed": false
   },
   "id": "d874d9e2e041fca4"
  },
  {
   "cell_type": "code",
   "outputs": [
    {
     "name": "stdout",
     "output_type": "stream",
     "text": [
      "Python 3.10.11\r\n"
     ]
    }
   ],
   "source": [
    "!python --version"
   ],
   "metadata": {
    "collapsed": false,
    "ExecuteTime": {
     "end_time": "2024-07-19T06:20:07.606980Z",
     "start_time": "2024-07-19T06:20:07.476484Z"
    }
   },
   "id": "86242d6dcd4a4e62",
   "execution_count": 1
  },
  {
   "cell_type": "code",
   "outputs": [],
   "source": [
    "# Load the train dataset from a text file\n",
    "train_data_file = 'Genre Classification Dataset/train_data.txt'\n",
    "train_data = pd.read_csv(train_data_file, sep=' ::: ', names=['ID', 'Title', 'Genre', 'Description'],\n",
    "                         engine='python')\n",
    "train_data.drop(columns=['ID'], inplace=True)\n",
    "\n",
    "# Load the test dataset from a text file\n",
    "test_data_file = 'Genre Classification Dataset/test_data.txt'\n",
    "test_data = pd.read_csv(test_data_file, sep=' ::: ', names=['ID', 'Title', 'Description'], engine='python')\n",
    "test_data.drop(columns=['ID'], inplace=True)\n",
    "\n",
    "# Load the test dataset from a text file\n",
    "test_sol_file = 'Genre Classification Dataset/test_data_solution.txt'\n",
    "test_sol = pd.read_csv(test_sol_file, sep=' ::: ', names=['ID', 'Title', 'Genre', 'Description'], engine='python')\n",
    "test_sol.drop(columns=['ID'], inplace=True)"
   ],
   "metadata": {
    "collapsed": false,
    "ExecuteTime": {
     "end_time": "2024-07-19T05:33:39.912807Z",
     "start_time": "2024-07-19T05:33:39.315360Z"
    }
   },
   "id": "6775bf66ad3257dc",
   "execution_count": 2
  },
  {
   "cell_type": "markdown",
   "source": [
    "Pre-Process the datasets"
   ],
   "metadata": {
    "collapsed": false
   },
   "id": "a785561ecde3ea1a"
  },
  {
   "cell_type": "code",
   "outputs": [],
   "source": [
    "# Ensure the solutions are aligned with the test data\n",
    "actual_labels = test_sol['Genre'].tolist()\n",
    "\n",
    "# Clean and preprocess data\n",
    "train_data_cleaned = train_data.dropna().drop_duplicates()\n",
    "test_data_cleaned = test_data.dropna().drop_duplicates()\n",
    "\n",
    "# Combine title and description for training data\n",
    "train_text = train_data_cleaned['Title'] + \" \" + train_data_cleaned['Description']\n",
    "train_label = train_data_cleaned['Genre']\n",
    "\n",
    "# Combine title and description for test data\n",
    "test_text = test_data_cleaned['Title'] + \" \" + test_data_cleaned['Description']\n",
    "\n",
    "# Vectorize the text using TF-IDF and remove stopwords\n",
    "tfidf_vectorizer = TfidfVectorizer(max_features=10000, stop_words='english')\n",
    "train_tfidf = tfidf_vectorizer.fit_transform(train_text).toarray()\n",
    "test_tfidf = tfidf_vectorizer.transform(test_text).toarray()\n",
    "\n",
    "# Encode the labels\n",
    "label_encoder = LabelEncoder()\n",
    "train_labels_encoded = label_encoder.fit_transform(train_label)\n",
    "train_labels_encoded = tf.keras.utils.to_categorical(train_labels_encoded, num_classes=len(label_encoder.classes_))\n"
   ],
   "metadata": {
    "collapsed": false,
    "ExecuteTime": {
     "end_time": "2024-07-19T05:33:44.397894Z",
     "start_time": "2024-07-19T05:33:39.913449Z"
    }
   },
   "id": "2bfb6cfa6dfb8b45",
   "execution_count": 3
  },
  {
   "cell_type": "markdown",
   "source": [
    "The Neural Network itself"
   ],
   "metadata": {
    "collapsed": false
   },
   "id": "39d5ca5c53d5d559"
  },
  {
   "cell_type": "code",
   "outputs": [
    {
     "name": "stderr",
     "output_type": "stream",
     "text": [
      "2024-07-18 22:33:46.266674: I metal_plugin/src/device/metal_device.cc:1154] Metal device set to: Apple M2 Pro\n",
      "2024-07-18 22:33:46.266703: I metal_plugin/src/device/metal_device.cc:296] systemMemory: 16.00 GB\n",
      "2024-07-18 22:33:46.266720: I metal_plugin/src/device/metal_device.cc:313] maxCacheSize: 5.33 GB\n",
      "2024-07-18 22:33:46.266752: I tensorflow/core/common_runtime/pluggable_device/pluggable_device_factory.cc:305] Could not identify NUMA node of platform GPU ID 0, defaulting to 0. Your kernel may not have been built with NUMA support.\n",
      "2024-07-18 22:33:46.266769: I tensorflow/core/common_runtime/pluggable_device/pluggable_device_factory.cc:271] Created TensorFlow device (/job:localhost/replica:0/task:0/device:GPU:0 with 0 MB memory) -> physical PluggableDevice (device: 0, name: METAL, pci bus id: <undefined>)\n"
     ]
    }
   ],
   "source": [
    "# Ask the user if the program should use an existing model or create a new model\n",
    "new = int(input(\"Enter 1 to train a new model or 0 to use an existing model: \"))\n",
    "\n",
    "if new == 1:\n",
    "    # Build the model\n",
    "    model = tf.keras.Sequential([\n",
    "        tf.keras.layers.InputLayer(shape=(train_tfidf.shape[1],)),  # Changed input_shape to shape\n",
    "        tf.keras.layers.Dense(256, activation='relu'),\n",
    "        tf.keras.layers.Dropout(0.5),\n",
    "        tf.keras.layers.Dense(128, activation='relu', kernel_regularizer=tf.keras.regularizers.l2(0.001)),\n",
    "        tf.keras.layers.Dropout(0.5),\n",
    "        tf.keras.layers.Dense(len(label_encoder.classes_), activation='softmax')\n",
    "    ])\n",
    "    model.compile(loss='categorical_crossentropy', optimizer='adam', metrics=['accuracy'])\n",
    "    model.summary()\n",
    "\n",
    "    # Create a TensorBoard callback\n",
    "    log_dir = \"logs/fit/\" + datetime.now().strftime(\"%Y%m%d-%H%M%S\")\n",
    "    tensorboard_callback = keras.callbacks.TensorBoard(log_dir=log_dir, histogram_freq=1, write_graph=True)\n",
    "\n",
    "    # Define the ModelCheckpoint callback\n",
    "    checkpoint_callback = keras.callbacks.ModelCheckpoint(\n",
    "        filepath='best_model.keras',\n",
    "        monitor='val_loss',\n",
    "        save_best_only=True,\n",
    "        mode='min',\n",
    "        verbose=1\n",
    "    )\n",
    "\n",
    "    # Define the EarlyStopping callback\n",
    "    early_stopping_callback = keras.callbacks.EarlyStopping(\n",
    "        monitor='val_loss',\n",
    "        patience=3,\n",
    "        verbose=1,\n",
    "        mode='min',\n",
    "        restore_best_weights=True\n",
    "    )\n",
    "\n",
    "    # Train the model with TensorBoard callback\n",
    "    history = model.fit(train_tfidf, train_labels_encoded, epochs=20, validation_split=0.2, batch_size=32,\n",
    "                        callbacks=[tensorboard_callback, checkpoint_callback, early_stopping_callback])\n",
    "\n",
    "    # Load the best model\n",
    "    model.load_weights('best_model.keras')\n",
    "\n",
    "if new == 0:\n",
    "    # Load the saved model\n",
    "    model = tf.keras.models.load_model('best_model.keras')"
   ],
   "metadata": {
    "collapsed": false,
    "ExecuteTime": {
     "end_time": "2024-07-19T05:33:46.475375Z",
     "start_time": "2024-07-19T05:33:44.398610Z"
    }
   },
   "id": "715b94692915c630",
   "execution_count": 4
  },
  {
   "cell_type": "code",
   "outputs": [
    {
     "name": "stdout",
     "output_type": "stream",
     "text": [
      "\u001B[1m 101/1694\u001B[0m \u001B[32m━\u001B[0m\u001B[37m━━━━━━━━━━━━━━━━━━━\u001B[0m \u001B[1m2s\u001B[0m 2ms/step"
     ]
    },
    {
     "name": "stderr",
     "output_type": "stream",
     "text": [
      "2024-07-18 22:33:49.382650: I tensorflow/core/grappler/optimizers/custom_graph_optimizer_registry.cc:117] Plugin optimizer for device_type GPU is enabled.\n"
     ]
    },
    {
     "name": "stdout",
     "output_type": "stream",
     "text": [
      "\u001B[1m1694/1694\u001B[0m \u001B[32m━━━━━━━━━━━━━━━━━━━━\u001B[0m\u001B[37m\u001B[0m \u001B[1m2s\u001B[0m 1ms/step\n",
      "Accuracy: 57.47%\n"
     ]
    }
   ],
   "source": [
    "# Evaluate the model\n",
    "test_predictions = model.predict(test_tfidf)\n",
    "predicted_labels = [label_encoder.classes_[pred] for pred in test_predictions.argmax(axis=1)]\n",
    "\n",
    "# Compute accuracy\n",
    "correct_predictions = sum([1 for actual, predicted in zip(actual_labels, predicted_labels) if actual == predicted])\n",
    "total_predictions = len(predicted_labels)\n",
    "accuracy = correct_predictions / total_predictions\n",
    "\n",
    "print(f\"Accuracy: {accuracy * 100:.2f}%\\n\\n\")"
   ],
   "metadata": {
    "collapsed": false,
    "ExecuteTime": {
     "end_time": "2024-07-19T05:33:52.047961Z",
     "start_time": "2024-07-19T05:33:46.476725Z"
    }
   },
   "id": "fcb28b71e28ca9e8",
   "execution_count": 5
  }
 ],
 "metadata": {
  "kernelspec": {
   "display_name": "Python 3",
   "language": "python",
   "name": "python3"
  },
  "language_info": {
   "codemirror_mode": {
    "name": "ipython",
    "version": 2
   },
   "file_extension": ".py",
   "mimetype": "text/x-python",
   "name": "python",
   "nbconvert_exporter": "python",
   "pygments_lexer": "ipython2",
   "version": "2.7.6"
  }
 },
 "nbformat": 4,
 "nbformat_minor": 5
}
